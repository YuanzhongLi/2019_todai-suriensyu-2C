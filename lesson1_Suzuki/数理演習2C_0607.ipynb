{
 "cells": [
  {
   "cell_type": "code",
   "execution_count": 2,
   "metadata": {},
   "outputs": [
    {
     "name": "stdout",
     "output_type": "stream",
     "text": [
      "a =\n",
      "\n",
      "   1   2   3\n",
      "   1   1   1\n",
      "\n",
      "b =\n",
      "\n",
      "   1   1\n",
      "   2   2\n",
      "\n",
      "c =\n",
      "\n",
      "   1   1\n",
      "   2   1\n",
      "   3   1\n",
      "\n"
     ]
    }
   ],
   "source": [
    "a = [1 2 3; 1 1 1]\n",
    "b = [1 1; 2 2]\n",
    "c = [1 1; 2 1; 3 1]"
   ]
  },
  {
   "cell_type": "code",
   "execution_count": 3,
   "metadata": {},
   "outputs": [
    {
     "name": "stdout",
     "output_type": "stream",
     "text": [
      "ans =\r\n",
      "\r\n",
      "   0\r\n",
      "   3\r\n",
      "\r\n"
     ]
    }
   ],
   "source": [
    "eig(b)"
   ]
  },
  {
   "cell_type": "code",
   "execution_count": 4,
   "metadata": {},
   "outputs": [
    {
     "name": "stdout",
     "output_type": "stream",
     "text": [
      "v =\r\n",
      "\r\n",
      "  -0.70711  -0.44721\r\n",
      "   0.70711  -0.89443\r\n",
      "\r\n",
      "lambda =\r\n",
      "\r\n",
      "Diagonal Matrix\r\n",
      "\r\n",
      "   0   0\r\n",
      "   0   3\r\n",
      "\r\n"
     ]
    }
   ],
   "source": [
    "[v, lambda] = eig(b)"
   ]
  },
  {
   "cell_type": "code",
   "execution_count": 5,
   "metadata": {},
   "outputs": [
    {
     "name": "stdout",
     "output_type": "stream",
     "text": [
      "ans =  2\n",
      "ans =  1\n",
      "ans =  2\n"
     ]
    }
   ],
   "source": [
    "rank(a)\n",
    "rank(b)\n",
    "rank(c)"
   ]
  },
  {
   "cell_type": "code",
   "execution_count": 6,
   "metadata": {},
   "outputs": [
    {
     "name": "stdout",
     "output_type": "stream",
     "text": [
      "u =\r\n",
      "\r\n",
      "  -0.91535  -0.40266\r\n",
      "  -0.40266   0.91535\r\n",
      "\r\n",
      "s =\r\n",
      "\r\n",
      "Diagonal Matrix\r\n",
      "\r\n",
      "   4.07914         0         0\r\n",
      "         0   0.60049         0\r\n",
      "\r\n",
      "v =\r\n",
      "\r\n",
      "  -0.32311   0.85378   0.40825\r\n",
      "  -0.54751   0.18322  -0.81650\r\n",
      "  -0.77190  -0.48734   0.40825\r\n",
      "\r\n"
     ]
    }
   ],
   "source": [
    "[u, s, v] = svd(a)"
   ]
  },
  {
   "cell_type": "code",
   "execution_count": 7,
   "metadata": {},
   "outputs": [
    {
     "name": "stdout",
     "output_type": "stream",
     "text": [
      "u =\r\n",
      "\r\n",
      "  -0.44721  -0.89443\r\n",
      "  -0.89443   0.44721\r\n",
      "\r\n",
      "s =\r\n",
      "\r\n",
      "Diagonal Matrix\r\n",
      "\r\n",
      "   3.1623e+00            0\r\n",
      "            0   1.5701e-16\r\n",
      "\r\n",
      "v =\r\n",
      "\r\n",
      "  -0.70711  -0.70711\r\n",
      "  -0.70711   0.70711\r\n",
      "\r\n"
     ]
    }
   ],
   "source": [
    "[u, s, v] = svd(b)"
   ]
  },
  {
   "cell_type": "code",
   "execution_count": 8,
   "metadata": {},
   "outputs": [
    {
     "name": "stdout",
     "output_type": "stream",
     "text": [
      "u =\r\n",
      "\r\n",
      "  -0.32311   0.85378   0.40825\r\n",
      "  -0.54751   0.18322  -0.81650\r\n",
      "  -0.77190  -0.48734   0.40825\r\n",
      "\r\n",
      "s =\r\n",
      "\r\n",
      "Diagonal Matrix\r\n",
      "\r\n",
      "   4.07914         0\r\n",
      "         0   0.60049\r\n",
      "         0         0\r\n",
      "\r\n",
      "v =\r\n",
      "\r\n",
      "  -0.91535  -0.40266\r\n",
      "  -0.40266   0.91535\r\n",
      "\r\n"
     ]
    }
   ],
   "source": [
    "[u, s, v] = svd(c)"
   ]
  },
  {
   "cell_type": "code",
   "execution_count": 13,
   "metadata": {},
   "outputs": [
    {
     "name": "stdout",
     "output_type": "stream",
     "text": [
      "ans =\n",
      "\n",
      "  -5.0000e-01   1.3333e+00\n",
      "  -1.7753e-16   3.3333e-01\n",
      "   5.0000e-01  -6.6667e-01\n",
      "\n",
      "ans =\n",
      "\n",
      "   0.100000   0.200000\n",
      "   0.100000   0.200000\n",
      "\n",
      "ans =\n",
      "\n",
      "  -5.0000e-01  -1.5704e-16   5.0000e-01\n",
      "   1.3333e+00   3.3333e-01  -6.6667e-01\n",
      "\n"
     ]
    }
   ],
   "source": [
    "pinv(a)\n",
    "pinv(b)\n",
    "pinv(c)"
   ]
  },
  {
   "cell_type": "code",
   "execution_count": 17,
   "metadata": {},
   "outputs": [
    {
     "name": "stdout",
     "output_type": "stream",
     "text": [
      "aa =\n",
      "\n",
      "   3\n",
      "   2\n",
      "\n",
      "bb =\n",
      "\n",
      "   2\n",
      "   3\n",
      "\n",
      "cc =\n",
      "\n",
      "   1\n",
      "   2\n",
      "   1\n",
      "\n",
      "ans =\n",
      "\n",
      "   1.16667\n",
      "   0.66667\n",
      "   0.16667\n",
      "\n",
      "warning: matrix singular to machine precision\n",
      "ans =\n",
      "\n",
      "   0.80000\n",
      "   0.80000\n",
      "\n",
      "ans =\n",
      "\n",
      "  -3.5578e-16\n",
      "   1.3333e+00\n",
      "\n"
     ]
    }
   ],
   "source": [
    "% 一般の求め方\n",
    "aa = [3;2]\n",
    "bb = [2;3]\n",
    "cc = [1;2;1]\n",
    "a\\aa\n",
    "b\\bb\n",
    "c\\cc"
   ]
  },
  {
   "cell_type": "code",
   "execution_count": 19,
   "metadata": {},
   "outputs": [
    {
     "name": "stdout",
     "output_type": "stream",
     "text": [
      "ans =\n",
      "\n",
      "   1.16667\n",
      "   0.66667\n",
      "   0.16667\n",
      "\n",
      "ans =\n",
      "\n",
      "   0.80000\n",
      "   0.80000\n",
      "\n",
      "ans =\n",
      "\n",
      "  -3.8858e-16\n",
      "   1.3333e+00\n",
      "\n"
     ]
    }
   ],
   "source": [
    "% 一般化逆行列による求め方\n",
    "pinv(a)*aa\n",
    "pinv(b)*bb\n",
    "pinv(c)*cc"
   ]
  },
  {
   "cell_type": "code",
   "execution_count": null,
   "metadata": {},
   "outputs": [],
   "source": []
  }
 ],
 "metadata": {
  "jupytext": {
   "text_representation": {
    "extension": ".py",
    "format_name": "light",
    "format_version": "1.4",
    "jupytext_version": "1.1.5"
   }
  },
  "kernelspec": {
   "display_name": "Octave",
   "language": "octave",
   "name": "octave"
  },
  "language_info": {
   "file_extension": ".m",
   "help_links": [
    {
     "text": "GNU Octave",
     "url": "https://www.gnu.org/software/octave/support.html"
    },
    {
     "text": "Octave Kernel",
     "url": "https://github.com/Calysto/octave_kernel"
    },
    {
     "text": "MetaKernel Magics",
     "url": "https://metakernel.readthedocs.io/en/latest/source/README.html"
    }
   ],
   "mimetype": "text/x-octave",
   "name": "octave",
   "version": "5.1.0"
  }
 },
 "nbformat": 4,
 "nbformat_minor": 2
}
